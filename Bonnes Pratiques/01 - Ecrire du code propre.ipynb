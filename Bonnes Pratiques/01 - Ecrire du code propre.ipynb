{
 "cells": [
  {
   "cell_type": "markdown",
   "metadata": {},
   "source": [
    "# Les bonnes pratiques de la programmation\n",
    "\n",
    "Bienvenue dans ce TP un peu particulier, qui utilise ce que l'on appelle un *notebook*.\n",
    "\n",
    "Les notebooks sont des documents interactifs où l'on peut mélanger texte et code, et exécuter\n",
    "le code produit!\n",
    "\n",
    "Un petit exemple? \n",
    "\n",
    "Voici un bout de code python: c'est très simple: il suffit de sélectionner le bloc, de modifier le contenu si besoin, et ensuite exécuter le bloc soit en utilisant le bouton \"run\", soit en tapant `Majuscule + Entrer`."
   ]
  },
  {
   "cell_type": "code",
   "execution_count": null,
   "metadata": {},
   "outputs": [],
   "source": [
    "# RIEN A MODIFIER : EXAMPLE\n",
    "\n",
    "for i in range(0, 11):\n",
    "    print(10 - i, '...')\n",
    "print('décollage!')"
   ]
  },
  {
   "cell_type": "markdown",
   "metadata": {},
   "source": [
    "Et voilà! C'est aussi simple que ça.\n",
    "\n",
    "Utiliser des outils agréables et avoir une présentation claire font aussi partie des bonnes pratiques!\n",
    "\n",
    "Prêts pour des exercices? C'est parti!\n",
    "\n",
    "## 1 - Ecrire une fonction `au_moins_un`\n",
    "\n",
    "Ecrire une fonction `au_moins_un` qui prend en paramètre une liste de valeurs et retourne:\n",
    "- `True` si n'importe quel élément de la liste est différent de zéro\n",
    "- `False` sinon\n",
    "\n",
    "Pour vous aider sur ce premier exercice, revoyons les bases en vitesse:\n",
    "\n",
    "### La boucle sur un tableau\n",
    "\n",
    "La notation `for <variable> in <liste>:` vous permet d'effectuer une boucle sur l'ensemble des valeurs d'une liste."
   ]
  },
  {
   "cell_type": "code",
   "execution_count": null,
   "metadata": {},
   "outputs": [],
   "source": [
    "# RIEN A MODIFIER\n",
    "\n",
    "for i in [1, 3, 4, 5, 7, 9]:\n",
    "    print(i)"
   ]
  },
  {
   "cell_type": "markdown",
   "metadata": {},
   "source": [
    "### La fonction\n",
    "\n",
    "Une fonction se déclare et s'utilise de la manière suivante:"
   ]
  },
  {
   "cell_type": "code",
   "execution_count": null,
   "metadata": {},
   "outputs": [],
   "source": [
    "# RIEN A MODIFIER\n",
    "\n",
    "def nom_de_fonction(param1, param2):\n",
    "    \"\"\"\n",
    "    Description de la fonction et des paramètres\n",
    "    \"\"\"\n",
    "    # Opérations sur les paramètres\n",
    "    resultat = param1 + param2\n",
    "    \n",
    "    # La fonction retourne un résultat (ou pas!)\n",
    "    return resultat\n",
    "\n",
    "# Puis elle s'utilise comme cela:\n",
    "nom_de_fonction(10, 5)"
   ]
  },
  {
   "cell_type": "markdown",
   "metadata": {},
   "source": [
    "C'est à vous! Pour vous simplifier la tâche, l'entête de la fonction est déjà écrit.\n",
    "\n",
    "**ASTUCE**: Le résultat de la fonction peut être retourné à n'importe quel endroit de la fonction... Y compris dans une boucle!"
   ]
  },
  {
   "cell_type": "code",
   "execution_count": null,
   "metadata": {},
   "outputs": [],
   "source": [
    "# BLOC A MODIFIER\n",
    "# Objectif: Remplir le contrat de la fonction\n",
    "\n",
    "def au_moins_un(L):\n",
    "    \"\"\"\n",
    "    Fonction retournant `True` si au moins une des valeur de la liste\n",
    "    passée en paramètre est différente de zéro, ou False sinon\n",
    "    \"\"\"\n",
    "    # VOTRE CODE ICI"
   ]
  },
  {
   "cell_type": "markdown",
   "metadata": {},
   "source": [
    "Assurez-vous de bien exécuter ce bloc avant de passer à la suite!\n",
    "\n",
    "## 2 - Tester votre code\n",
    "\n",
    "Vous avez fait le précédent exercice juste? En êtes vous sûr? Vous ne devriez pas... Pas sans tester!\n",
    "\n",
    "La programmation peut s'avérer difficile, et il est très fréquent de faire des erreurs:\n",
    "- Une (ou plusieurs) fautes de frappe\n",
    "- Une mauvaise syntaxe\n",
    "- Ou des cas que l'on aurait pas envisagé?\n",
    "\n",
    "Ne vous découragez pas. On apprends beaucoup de nos erreurs!\n",
    "\n",
    "Pour tester votre fonction précédente, nous allons utiliser le prédicat `assert <expression>` de python, qui va vous retourner une erreur si l'expression donnée n'est pas VRAIE.\n",
    "\n",
    "Essayez de bien comprendre ce qui est testé, voire même de rajouter vous même quelques tests!"
   ]
  },
  {
   "cell_type": "code",
   "execution_count": null,
   "metadata": {},
   "outputs": [],
   "source": [
    "# RIEN A MODIFIER\n",
    "# Objectif: tester la fonction précédente.\n",
    "\n",
    "# Tester avec une liste qui contient une valeur non zéro\n",
    "assert au_moins_un([0, 0, 0, 1, 0, 0]) is True\n",
    "assert au_moins_un([1, 0, 0, 0, 0, 0]) is True\n",
    "assert au_moins_un([0, 0, 0, 0, 0, 1]) is True\n",
    "\n",
    "# Tester avec uniquement des valeurs non zéros\n",
    "assert au_moins_un([1, 2, 3, 4]) is True\n",
    "\n",
    "# Tester avec une liste qui ne contient pas de valeur non-zéro\n",
    "assert au_moins_un([0, 0, 0, 0]) is False\n",
    "\n",
    "# Tester avec une liste vide\n",
    "assert au_moins_un([]) is False\n",
    "\n",
    "# Tester avec une liste à un élément\n",
    "assert au_moins_un([0]) is False\n",
    "assert au_moins_un([1]) is True\n",
    "\n",
    "# Tester avec des valeurs négatives?\n",
    "assert au_moins_un([-1, -1, -2]) is True\n",
    "\n",
    "# Tester avec des réels\n",
    "assert au_moins_un([0.0000001, 0, 0, 0]) is True"
   ]
  },
  {
   "cell_type": "markdown",
   "metadata": {},
   "source": [
    "Plusieurs résultats possibles:\n",
    "- Si vous avez une NameError \"name 'au_moins_un' is not defined\", alors très certainement vous n'avez pas exécuté le bloc précédent.\n",
    "- Si vous avez une AssertionError, alors l'un des tests est raté. Il faut maintenant comprendre pourquoi et modifier votre code!\n",
    "- Si pas d'erreur, BRAVO!\n",
    "\n",
    "## 3 - Ecrire une fonction `tous`\n",
    "\n",
    "Ecrire une fonction `tous` qui prend en paramètre une liste et retourne:\n",
    "- True si tous les éléments de la liste sont non zéros\n",
    "- False sinon\n",
    "\n",
    "Cette fois aucune aide n'est apportée! Vous devez écrire:\n",
    "- l'entête de la fonction\n",
    "- la description de la fonction\n",
    "- le code de la fonction\n",
    "- les tests qui ont du sense.\n",
    "\n",
    "Inspirez-vous de l'exercice précédent, il n'y a aucun mal à ça, au contraire!"
   ]
  },
  {
   "cell_type": "code",
   "execution_count": null,
   "metadata": {},
   "outputs": [],
   "source": [
    "# BLOC A COMPLETER\n",
    "# Objectif: Ecrire la fonction `tous`\n",
    "# 1) Ecrire la fonction complète\n",
    "\n",
    "# VOTRE FONCTION ICI\n",
    "\n",
    "# 2) Ecrire la série de tests associés\n",
    "\n",
    "# VOS TESTS ICI"
   ]
  },
  {
   "cell_type": "markdown",
   "metadata": {},
   "source": [
    "Réussi? Bravo, vous venez de réinventer la roue! :-) Ces fonctions existent déjà en python: `any()` et `all()` sont pratiquement équivalentes au deux fonction précédente.\n",
    "\n",
    "Moralité: une bonne connaissance du langage vous aide à *ne pas réinventer la roue* en permanence!\n",
    "\n",
    "## 4 - Ecrire une fonction `aucun`\n",
    "\n",
    "Ecrire une fonction `aucun` qui prend en paramètre une liste et retourne:\n",
    "- True si aucun élément n'est non-nul\n",
    "- False sinon\n",
    "\n",
    "**ASTUCE**: il existe une solution en une ligne en utilisant l'une des deux fonctions écrites précédemment, points bonus pour ceux qui l'utiliseront!"
   ]
  },
  {
   "cell_type": "code",
   "execution_count": null,
   "metadata": {},
   "outputs": [],
   "source": [
    "# BLOC A COMPLETER\n",
    "# Objectif: Ecrire la fonction `aucun`\n",
    "# 1) Ecrire la fonction complète\n",
    "\n",
    "# VOTRE FONCTION ICI\n",
    "\n",
    "# 2) Ecrire la série de tests associés\n",
    "\n",
    "# VOS TESTS ICI"
   ]
  },
  {
   "cell_type": "markdown",
   "metadata": {},
   "source": [
    "## 5 - Mais pourquoi toutes ces fonctions?\n",
    "\n",
    "Vous vous demandez peut-être à quoi peut servir ce genre de fonction... En fait, en l'état, à pas grand chose. \n",
    "\n",
    "Mais vous savez peut-être qu'en logique booléenne, `zéro` est équivalent `False`, et tout le reste est `True`.\n",
    "\n",
    "Donc les différentes fonctions que vous avez vu sont aussi équivalentes à:\n",
    "\n",
    "- `au_moins_un`: Au moins une valeur de la liste est vraie\n",
    "- `tous`: Toutes les valeurs de la liste sont vraies\n",
    "- `aucun`: Aucune valeur de la liste n'est vraie\n",
    "\n",
    "Nous voilà bien avancés... Certes. Mais il ne faut pas oublier une chose importante: **En informatique, et en algorithmique, on va toujours essayer de simplifier au maximum le code à écrire**.\n",
    "\n",
    "## 6 - Application concrète\n",
    "\n",
    "Prenons un énoncé maintenant beaucoup complexe:\n",
    "\n",
    "`Etant donnée une liste de nombre entiers positifs, dire s'il sont tous des nombres premiers inférieurs à 100`\n",
    "\n",
    "Comment implémenter une telle fonction? Et bien en commençant par la découper; on cherche a savoir si:\n",
    "- `toutes` les valeurs sont des `nombres premiers`\n",
    "- `et` si `toutes` les valeurs sont `inférieures à 100`\n",
    "\n",
    "En annexe de ce TP vous est fournie une fonction qui, étant donné un nombre, vous dit s'il est premier.\n",
    "Vous pouvez voir ce code en [cliquant sur ce lien](utils.py)"
   ]
  },
  {
   "cell_type": "code",
   "execution_count": null,
   "metadata": {},
   "outputs": [],
   "source": [
    "# RIEN A MODIFIER\n",
    "# Objectif, exécuter ce code pour voir sa documentation avec la fonction `help`\n",
    "\n",
    "from utils import premier\n",
    "\n",
    "assert premier(2) is True\n",
    "assert premier(4) is False\n",
    "\n",
    "help(premier)"
   ]
  },
  {
   "cell_type": "markdown",
   "metadata": {},
   "source": [
    "### 6.1 - Fonction `inferieur_a_100`\n",
    "\n",
    "Vous avez échappé à l'implémentation de la fonction `premier`! Mais vous n'échapperez pas à l'implémentation de la fonction `inferieur_a_100` suivant la définition suivante:"
   ]
  },
  {
   "cell_type": "code",
   "execution_count": null,
   "metadata": {},
   "outputs": [],
   "source": [
    "# BLOC A MODIFIER\n",
    "# Objectif: Ecrire une fonction `inferieur_a_100`\n",
    "\n",
    "def inferieur_a_100(x):\n",
    "    \"\"\"\n",
    "    :param x: entier positif\n",
    "    :return: True si x est inférieur à 100, False sinon\n",
    "    \"\"\"\n",
    "    # VOTRE CODE ICI\n",
    "    \n",
    "assert inferieur_a_100(10) is True\n",
    "assert inferieur_a_100(99) is True\n",
    "assert inferieur_a_100(100) is False\n",
    "assert inferieur_a_100(1000) is False"
   ]
  },
  {
   "cell_type": "markdown",
   "metadata": {},
   "source": [
    "### 6.2 - Appliquer une fonction à un tableau\n",
    "\n",
    "Il ne vous manque plus que de connaître une fonction qui, étant donné une liste de valeurs, retourne *la liste des résultats d'une fonction appliquée aux valeurs*.\n",
    "\n",
    "Cette fonction existe de base dans python et s'appelle `map`. `map` prend en paramètres une fonction à appliquer sur un *ensemble de valeurs*, et le-dit ensemble de valeurs. Petite subtilité, elle retourne un *itérateur*. Vous n'avez pas besoin de vous soucier de cela pour le moment. Entourez votre appel à `map` dans un appel à `list` pour transformer le résultat en liste!"
   ]
  },
  {
   "cell_type": "code",
   "execution_count": null,
   "metadata": {},
   "outputs": [],
   "source": [
    "# RIEN A MODIFIER\n",
    "# Objectif: Observer la fonction `map`\n",
    "\n",
    "X = [1, 3, 4, 5, 6]\n",
    "\n",
    "def pair(x):\n",
    "    \"\"\"\n",
    "    :param x: Entier positif\n",
    "    :return: True si x est pair, False sinon\n",
    "    \"\"\"\n",
    "    return (x % 2) == 0\n",
    "\n",
    "resultat = list(map(pair, X))\n",
    "\n",
    "print(resultat)  # Devrait afficher la liste des résultats, avec True aux emplacements des entiers pairs."
   ]
  },
  {
   "cell_type": "markdown",
   "metadata": {},
   "source": [
    "### 6.3 - Application de tout ce que vous avez appris\n",
    "\n",
    "Il est temps d'écrire la fonction!"
   ]
  },
  {
   "cell_type": "code",
   "execution_count": null,
   "metadata": {},
   "outputs": [],
   "source": [
    "# BLOC A MODIFIER\n",
    "# Objectif: Ecrire la fonction de l'énoncé, et quelques tests\n",
    "\n",
    "def premiers_inf_a_100(L):\n",
    "    \"\"\"\n",
    "    :param L: List d'entier positifs\n",
    "    :return: True si tous les éléments de L sont des nombres premiers inférieurs à 100\n",
    "    \"\"\"\n",
    "    # Appliquer inferieur_a_100 sur les éléments de L\n",
    "    liste_inf_100 = None  # MODIFIER ICI\n",
    "    \n",
    "    # Appliquer la fonction `tous` ou `all` au résultat\n",
    "    resultat_inf_100 = None  # MODIFIER ICI\n",
    "    \n",
    "    # Appliquer premier sur les éléments de L\n",
    "    liste_premiers = None  # MODIFIER ICI\n",
    "    \n",
    "    # Appliquer la fonction `tous` ou `all` au résultat\n",
    "    resultat_premiers = None  # MODIFIER ICI\n",
    "    \n",
    "    # On combine les deux résultats\n",
    "    return resultat_inf_100 and resultat_premiers\n",
    "    \n",
    "\n",
    "# Quelques tests pour vérifier\n",
    "assert premiers_inf_a_100([2, 3, 31, 89]) is True\n",
    "assert premiers_inf_a_100([29, 11, 17, 90]) is False  # 90 n'est pas premier\n",
    "assert premiers_inf_a_100([101, 11, 17, 31]) is False  # 101 n'est pas inférieur à 100\n",
    "# AJOUTER DES TESTS ICI"
   ]
  },
  {
   "cell_type": "markdown",
   "metadata": {},
   "source": [
    "## Conclusions\n",
    "\n",
    "Lors de ce TP, vous avez vu plusieurs choses importantes:\n",
    "\n",
    "- On doit écrire des fonctions avec des entêtes claires\n",
    "- On doit tester ses fonctions pour être sûr qu'elles fonctionnent bien\n",
    "- Il existe de nombreuses fonctions déjà existantes dans python, que l'on peut utiliser dans notre code\n",
    "- En combinant des fonctions (qu'on a écrit soit même ou non), on peut arriver à des résultats complexes!\n",
    "\n",
    "\n",
    "![Pas de bon code sans bonnes pratiques](resources/2mnwlr.jpg)\n",
    "\n",
    "\n",
    "Pour finir, voici un petit *Easter Egg* caché dans le code de python (exécutez le bloc pour voir ce qu'il se passe)!"
   ]
  },
  {
   "cell_type": "code",
   "execution_count": null,
   "metadata": {},
   "outputs": [],
   "source": [
    "# RIEN A MODIFIER\n",
    "# Objectif: Apprendre de la poésie pythonique!\n",
    "\n",
    "import this"
   ]
  }
 ],
 "metadata": {
  "kernelspec": {
   "display_name": "Python 3",
   "language": "python",
   "name": "python3"
  },
  "language_info": {
   "codemirror_mode": {
    "name": "ipython",
    "version": 3
   },
   "file_extension": ".py",
   "mimetype": "text/x-python",
   "name": "python",
   "nbconvert_exporter": "python",
   "pygments_lexer": "ipython3",
   "version": "3.6.2"
  }
 },
 "nbformat": 4,
 "nbformat_minor": 2
}
