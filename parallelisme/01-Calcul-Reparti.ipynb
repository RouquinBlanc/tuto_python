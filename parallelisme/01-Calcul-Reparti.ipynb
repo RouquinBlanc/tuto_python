{
 "cells": [
  {
   "cell_type": "markdown",
   "metadata": {},
   "source": [
    "# Calcul réparti et programmation parallèle\n",
    "\n",
    "## Introduction\n",
    "\n",
    "Les entreprises et chercheurs peuvent avoir besoin dans certain cas d'effectuer des opérations complexes, nécessitant des millions ou milliards d'instructions.\n",
    "\n",
    "Quand on parle de gros traitements de données, on utilise souvent deux mesures:\n",
    "- Les MIPS, ou Millions d'Instructions Par Seconde\n",
    "- ou les FLOPS, Floating Point Operations Per Second, ou en français le nombre d'opération sur nombres à virgule par seconde. On parle aussi de MFLOPS (Mega FLOPS, $10^6$ FLOPS), GFLOPS (Giga FLOPS, $10^9$ FLOPS), ou TFLOPS (Terra FLOPS, $10^{12}$ FLOPS).\n",
    "\n",
    "Quelques exemples de traitement demandant beaucoup de puissance instantanée:\n",
    "\n",
    "* La 3D et les jeux, où la puissance de calcul va conditionner la résolution maximale, qualité de l'image, et nombre d'images par seconde:\n",
    "  * En 1998: La playstation 1 proposait 100 MFLOPS\n",
    "  ![La 3D sur playstation en 1998](resources/ff7.jpg)\n",
    "  * En 2018: La playstation 4 pro propose 4.20 TFLOPS (soit 42000 fois plus...)\n",
    "  ![La 3D sur playstation en 2018](resources/horizon-zero-dawn.jpg)\n",
    "* L'intelligence artificielle, nécessitant d'énormes capacité de calcul! Exemple: [YOLOv3](https://youtu.be/MPU2HistivI), nécessitant jusqu'à 150 TFLOPS pour traiter une vidéo 4K en temps réel, soit 37 Playstation 4...\n",
    "  * Analyse de traffic routier en temps réel:\n",
    "  ![YOLOv3](resources/yolov3.png)\n",
    "* De manière générale, toute application aillant pour entrée des données de taille gigantesque: demandez-vous combien quelle puissance il faut à Google pour analyser une seule requête et vous retourner les résultats adéquat. Puis réalisez que google à l'heure actuelle gère [40,000 recherches par seconde](http://www.internetlivestats.com/google-search-statistics/), 3.5 milliard par jour!\n",
    "\n",
    "Or la vitesse d'un processeur, aussi puissant soit-il, reste relativement basse: seulement quelques GFLOPS pour les plus puissants du marché actuel..."
   ]
  },
  {
   "cell_type": "markdown",
   "metadata": {},
   "source": [
    "## Comment fait-on pour aller plus vite?\n",
    "\n",
    "Prenons un exemple tout simple de fonction mathématique: la somme de carrés, définie par:\n",
    "$$\\sum_{k=1}^n k^2 = 1^2 + 2^2 + 3^2 + \\cdots + n^2$$\n",
    "\n",
    "Rien de bien compliqué pour $n < 10$, mais au delà? Pour $n = 10^9$?"
   ]
  },
  {
   "cell_type": "code",
   "execution_count": null,
   "metadata": {},
   "outputs": [],
   "source": [
    "\"\"\"\n",
    "RIEN A MODIFIER!\n",
    "---\n",
    "Tout d'abord, importons quelques libraries et fonctions utiles pour ce TP\n",
    "N'OUBLIEZ PAS D'EXECUTER TOUTES LES SECTIONS DE CODE, Y COMPRIS CELLE-CI!\n",
    "\"\"\"\n",
    "\n",
    "# Librarie graphique\n",
    "import matplotlib.pyplot as plt\n",
    "%matplotlib inline\n",
    "\n",
    "# Outils de chronométrage, visible dans tputils.py\n",
    "from tputils import chronometre\n"
   ]
  },
  {
   "cell_type": "markdown",
   "metadata": {},
   "source": [
    "### Implémentons une version naive\n",
    "\n",
    "Commençons par écrire une fonction résolvant $\\sum_{k=1}^n k^2$ de manière naive, en utilisant une boucle simple.\n",
    "\n",
    "Pour rappel, une boucle en python3 peut s'écrire de la manière suivante:\n",
    "```python3\n",
    "for i in range(10):\n",
    "    # Itération sur tous les entiers de 0 à 9 (inférieurs à 10)\n",
    "    \n",
    "for i in range(4, 10):\n",
    "    # Itération sur les entiers inférieurs à 10 à partir de 4, soit [4, 5, 6, 7, 8, 9]\n",
    "    \n",
    "for i in range(1, 10, 2):\n",
    "    # Itération sur les entiers inférieurs à 10 à partir de 1, avec un interval de 2; soit [1, 3, 5, 7, 9]\n",
    "```"
   ]
  },
  {
   "cell_type": "code",
   "execution_count": null,
   "metadata": {
    "nbgrader": {
     "grade": false,
     "grade_id": "cell-bd0d52257318a673",
     "locked": false,
     "schema_version": 1,
     "solution": true
    }
   },
   "outputs": [],
   "source": [
    "\"\"\"\n",
    "CODE A MODIFIER\n",
    "Implementez la fonction ci-dessous\n",
    "\"\"\"\n",
    "\n",
    "def somme_carres(n):\n",
    "    \"\"\"\n",
    "    Calcul de la somme des carrés entre 1 et n\n",
    "    On veillera à ce que n soit un entier en forcant une conversion via la fonction int()\n",
    "    \"\"\"\n",
    "    # VOTRE CODE ICI!"
   ]
  },
  {
   "cell_type": "markdown",
   "metadata": {},
   "source": [
    "Réussi? Bravo, mais nous allons quand même vérifier...\n",
    "\n",
    "La commande `assert` permet de vérifier si une égalité est vrai, et affiche une erreur autrement.\n",
    "\n",
    "```\n",
    "assert <prédicat> [, <message d'erreur>]\n",
    "```\n",
    "\n",
    "Pour chaque mini exercice, vous trouverez une série de tests à executer pour vérifier que votre travail retourne le bon résultat.\n",
    "\n",
    "Habituez-vous à tester **systématiquement** votre travail! Le test fait partie intégrante des bonnes pratiques de la programmation professionnelle, au même titre que la documentation."
   ]
  },
  {
   "cell_type": "code",
   "execution_count": null,
   "metadata": {},
   "outputs": [],
   "source": [
    "\"\"\"\n",
    "RIEN A MODIFIER!\n",
    "Executez ce bloc pour vérifier votre fonction\n",
    "\"\"\"\n",
    "assert somme_carres(1) == 1\n",
    "assert somme_carres(2) == 5\n",
    "assert somme_carres(3) == 14\n",
    "# Les nombres à virgule doivent être converti en entiers\n",
    "assert somme_carres(3.0) == 14\n",
    "assert somme_carres(100) == 338350\n",
    "\n",
    "print(\"Pas d'erreur? Parfait, votre fonction est probablement juste!\")"
   ]
  },
  {
   "cell_type": "markdown",
   "metadata": {},
   "source": [
    "Testons maintenant combien de temps il faut pour effectuer $\\sum_{k=1}^{10^7} k^2$ en utilisant la fonction `chronometre` importée en début de TP"
   ]
  },
  {
   "cell_type": "code",
   "execution_count": null,
   "metadata": {},
   "outputs": [],
   "source": [
    "\"\"\"\n",
    "RIEN A MODIFIER!\n",
    "Executez ce bloc pour afficher le temps necessaire pour calculer somme_carres(1e7)\n",
    "\"\"\"\n",
    "t = chronometre(somme_carres, 1e7)\n",
    "print(\"l'execution de somme_carres(1e7) a pris {:0.2f} secondes\".format(t))"
   ]
  },
  {
   "cell_type": "markdown",
   "metadata": {},
   "source": [
    "Vous pouvez constater que cela prend un certain temps... \n",
    "Nous pourrions essayer de tracer la courbe de l'évolution du temps d'exécution \n",
    "en fonction de la valeur passée en parametre!\n",
    "\n",
    "Pour cela, nous utiliserons la librairie `matplotlib`, très utile en mathématiques."
   ]
  },
  {
   "cell_type": "code",
   "execution_count": null,
   "metadata": {},
   "outputs": [],
   "source": [
    "\"\"\"\n",
    "CODE A MODIFIER\n",
    "Tout d'abord, nous créons deux listes:\n",
    " - une pour les valeurs d'entrée (en absisse),\n",
    " - l'autre pour les temps dr'exécution\n",
    "\"\"\"\n",
    "N_simple = []\n",
    "T_simple = []\n",
    "\n",
    "for n in range(100_000, 1_000_000, 100_000):\n",
    "    # Pour chaque valeur, ajoute chaque valeur de n dans N_simple\n",
    "    N_simple.append(n)\n",
    "    # Pour chaque valeur, chronometre et enregistre le resultat dans T_simple\n",
    "    # VOTRE CODE ICI!\n",
    "    T_simple.append(chronometre(somme_carres, n))\n",
    "\n",
    "# Utilisons matplotlib pour afficher le résultat\n",
    "plt.plot(N_simple, T_simple, 'rx')\n",
    "plt.xlabel('Valeur de n')\n",
    "plt.ylabel('Temps en secondes')\n",
    "plt.title('Evolution du temps de calcul')\n",
    "plt.show()"
   ]
  },
  {
   "cell_type": "markdown",
   "metadata": {},
   "source": [
    "**QUESTIONS** (éditez cette partie)\n",
    "\n",
    "1) Quelle forme a la courbe? \n",
    "\n",
    "VOTRE REPONSE ICI\n",
    "\n",
    "2) Quelle complexité pour le calcul de cet fonction (en fonction de n) ?\n",
    "\n",
    "VOTRE REPONSE ICI\n",
    "\n",
    "3) Notez le temps d'execution pour n = 500000\n",
    "\n",
    "VOTRE REPONSE ICI\n",
    "\n",
    "4) Quel serait le temps approximatif d'exécution pour $n = 10^7$?\n",
    "\n",
    "VOTRE REPONSE ICI"
   ]
  },
  {
   "cell_type": "markdown",
   "metadata": {},
   "source": [
    "## Partage de tâches\n",
    "\n",
    "Python (et la plupart des languages de programmation) tourne par default en utilisant un seul processeur. Ce qui veut dire que votre programme ne peut executer qu'une seule tâche à la fois, aussi complexe soit-elle.\n",
    "\n",
    "Or les ordinateurs actuels on souvent plus d'un processeur, ou pour être plus précis, plusieurs coeurs à l'intérieur d'un ou plusieurs processeurs. Chaque coeur peut faire tourner un programme!\n",
    "\n",
    "- Les processeurs d'entrée de gamme ont souvent 2 à 4 coeurs (comme le Core i3 de Intel).\n",
    "- Les processeurs de milieu de gamme peuvent avoir entre 4 et 8 coeurs (Core i5 et i7)\n",
    "- Les processeurs haut de gamme ont souvent 16 coeurs et plus!\n",
    "\n",
    "il existe différent moyens d'executer du code sur plusieurs coeurs!\n",
    "\n",
    "### La programmation par Thread\n",
    "\n",
    "A COMPLETER!!!\n",
    "\n",
    "### La programmation par Process\n",
    "\n",
    "A COMPLETER!!!"
   ]
  },
  {
   "cell_type": "markdown",
   "metadata": {},
   "source": [
    "## Découpage de notre fonction pour execution répartie\n",
    "\n",
    "Dans cet exercice il est question de faire la somme d'un ensemble de valeurs (les carrés) qui peuvent être calculées de manière indépendante.\n",
    "\n",
    "On peut réécrire la formule comme suit:\n",
    "$$\\sum_{k=1}^n k^2 = \\sum_{k=1}^{\\frac{n}2} k^2 + \\sum_{k=\\frac{n}2+1}^n k^2$$\n",
    "\n",
    "On peut donc calculer la moitié des valeurs et les additionner d'un coté, et faire le calcul de l'autre moitié des valeurs d'un autre coté. Aucun interet réel si on effectue ces opérations l'une après l'autre, mais intuitivement on peut directement imaginer le gain de performance si elles sont effectuées en même temps!\n",
    "\n",
    "Cette stratégie est souvent appelée [Diviser pour Régner](https://fr.wikipedia.org/wiki/Diviser_pour_r%C3%A9gner_%28informatique%29).\n",
    "\n",
    "![illustration](resources/somme_carres.png)"
   ]
  },
  {
   "cell_type": "code",
   "execution_count": null,
   "metadata": {},
   "outputs": [],
   "source": [
    "\"\"\"\n",
    "CODE A MODIFIER\n",
    "Implémentez la function somme_partielle_carres(debut, fin) qui retourne la somme des carrés de debut à fin.\n",
    "Veillez à utiliser une boucle comme précédemment\n",
    "\"\"\"\n",
    "\n",
    "def somme_partielle_carres(debut, fin):\n",
    "    \"\"\"\n",
    "    Calcul de la somme des carrés entre debut et fin\n",
    "    \"\"\"\n",
    "    # VOTRE CODE ICI"
   ]
  },
  {
   "cell_type": "code",
   "execution_count": null,
   "metadata": {},
   "outputs": [],
   "source": [
    "\"\"\"\n",
    "RIEN A MODIFIER!\n",
    "Executez ce bloc pour vérifier votre fonction\n",
    "\"\"\"\n",
    "assert somme_partielle_carres(1, 3) == 14\n",
    "assert somme_partielle_carres(1, 100) == 338350\n",
    "assert somme_partielle_carres(1, 50) + somme_partielle_carres(51, 100) == 338350"
   ]
  },
  {
   "cell_type": "code",
   "execution_count": null,
   "metadata": {},
   "outputs": [],
   "source": [
    "from multiprocessing.pool import Pool\n",
    "pool = Pool()\n",
    "\n",
    "def somme_rapide(n):\n",
    "    \"\"\"\n",
    "    Calcul de la somme des carrés en utilisant 2 processes en parallèle\n",
    "    \"\"\"\n",
    "    milieu = n // 2\n",
    "    premier = pool.apply_async(somme_partielle_carres, (1, milieu))\n",
    "    deuxieme = pool.apply_async(somme_partielle_carres, (milieu + 1, n))\n",
    "    \n",
    "    return premier.get() + deuxieme.get()"
   ]
  },
  {
   "cell_type": "code",
   "execution_count": null,
   "metadata": {},
   "outputs": [],
   "source": [
    "\"\"\"\n",
    "RIEN A MODIFIER!\n",
    "Executez ce bloc pour vérifier votre fonction\n",
    "\"\"\"\n",
    "assert somme_rapide(3) == 14\n",
    "assert somme_rapide(100) == 338350"
   ]
  },
  {
   "cell_type": "code",
   "execution_count": null,
   "metadata": {},
   "outputs": [],
   "source": [
    "# Essayons différentes valeurs de n, et collectons le temps requis pour calculer somme_carres(n)\n",
    "\n",
    "N_rapide = []\n",
    "T_rapide = []\n",
    "\n",
    "for n in range(100_000, 1_000_000, 100_000):\n",
    "    # Pour chaque valeur, chronometre et enregistre le resultat dans T\n",
    "    N_rapide.append(n)\n",
    "    T_rapide.append(chronometre(somme_rapide, n))\n",
    "\n",
    "# Utilisons matplotlib pour afficher le résultat\n",
    "plt.plot(N_simple, T_simple, 'rx', label='simple')\n",
    "plt.plot(N_rapide, T_rapide, 'bx', label='rapide')\n",
    "plt.xlabel('nombre de valeurs n')\n",
    "plt.ylabel('Temps en secondes')\n",
    "plt.title('Evolution du temps de calcul')\n",
    "plt.legend()\n",
    "plt.show()"
   ]
  },
  {
   "cell_type": "markdown",
   "metadata": {},
   "source": [
    "**QUESTIONS** (A éditer en compléter)\n",
    "\n",
    "1) Que constatez-vous?\n",
    "\n",
    "VOTRE REPONSE ICI\n",
    "\n",
    "2) Pouvons-nous améliorer encore les performances, et comment?\n",
    "\n",
    "VOTRE REPONSE ICI\n",
    "\n",
    "3) Quelles sont les limites de cette technique?\n",
    "\n",
    "VOTRE REPONSE ICI"
   ]
  },
  {
   "cell_type": "markdown",
   "metadata": {},
   "source": [
    "## Un dernier conseil pour aller encore plus loin\n",
    "\n",
    "Une grande partie des problèmes calculatoires appliqués à l'informatique peuvent être résolu *plus vite* en utilisant cette stratégie de parallélisation.\n",
    "\n",
    "Mais il ne faut pas oublier une chose **importante**: souvent la meilleure des optimisations consiste à revoir les postulats de départ, et trouver de meilleures manières d'exprimer un problème!\n",
    "\n",
    "Si nous revenons à notre somme de carrés, il peut être prouvé que cette formule est équivalente:\n",
    "\n",
    "$$\\sum_{k=1}^n k^2 = \\frac{n(n+1)(2n+1)}6$$"
   ]
  },
  {
   "cell_type": "code",
   "execution_count": null,
   "metadata": {},
   "outputs": [],
   "source": [
    "\"\"\"\n",
    "CODE A MODIFIER\n",
    "Implémentez la formule de calcul de la somme des carrés optimisée\n",
    "\"\"\"\n",
    "\n",
    "def somme_efficace(n):\n",
    "    \"\"\"\n",
    "    Calcul de la somme des carrés entre 1 et n\n",
    "    \"\"\"\n",
    "    # VOTRE CODE ICI"
   ]
  },
  {
   "cell_type": "code",
   "execution_count": null,
   "metadata": {},
   "outputs": [],
   "source": [
    "\"\"\"\n",
    "RIEN A MODIFIER!\n",
    "Executez ce bloc pour vérifier votre fonction\n",
    "\"\"\"\n",
    "assert somme_efficace(1) == 1\n",
    "assert somme_efficace(2) == 5\n",
    "assert somme_efficace(100) == 338350"
   ]
  },
  {
   "cell_type": "code",
   "execution_count": null,
   "metadata": {},
   "outputs": [],
   "source": [
    "\"\"\"\n",
    "RIEN A MODIFIER!\n",
    "Executez ce bloc pour afficher le temps necessaire pour calculer somme_efficace(1e7)\n",
    "\"\"\"\n",
    "t = chronometre(somme_efficace, 1e7)\n",
    "print(\"l'execution de somme_efficace(1e7) a pris {:0.2f} secondes\".format(t))"
   ]
  }
 ],
 "metadata": {
  "kernelspec": {
   "display_name": "Python 3",
   "language": "python",
   "name": "python3"
  },
  "language_info": {
   "codemirror_mode": {
    "name": "ipython",
    "version": 3
   },
   "file_extension": ".py",
   "mimetype": "text/x-python",
   "name": "python",
   "nbconvert_exporter": "python",
   "pygments_lexer": "ipython3",
   "version": "3.6.4"
  }
 },
 "nbformat": 4,
 "nbformat_minor": 2
}
