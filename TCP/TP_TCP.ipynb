{
 "cells": [
  {
   "cell_type": "markdown",
   "metadata": {},
   "source": [
    "# TCP en pratique: HTTP\n",
    "\n",
    "TCP est utilisé par une multitude de protocoles réseau que vous utilisez (sans le savoir) tous les jours!\n",
    "\n",
    "- Pages et services web: HTTP, Websocket\n",
    "- Emails: SMTP, POP, IMAP\n",
    "- Transfères de fichiers entre machine: FTP, SAMBA, AirDrop\n",
    "\n",
    "Le plus répandu est le protocole HTTP. Il permet de manière relativement simple d'accéder à des pages web mais aussi à des services.\n",
    "\n",
    "**Essayez de faire un clic droit sur la page, puis \"afficher le code source de la page\". Vous verrez du code HTML qui a servi à générer tout ce document!**"
   ]
  },
  {
   "cell_type": "markdown",
   "metadata": {},
   "source": [
    "## Service utilisant le protocole HTTP: météo en ligne\n",
    "\n",
    "Avec l'accès universel à internet depuis n'importe quelle machine (de l'ordinateur au réfrigérateur...), de nombreux services ont vu le jour. Certaines entreprise mettent à disposition des données au profit d'autres applications.\n",
    "\n",
    "La météo est un service assez courant, utilisé par votre téléphone pour afficher la météo, ou par Alexa pour vous réveiller en vous disant s'il va falloir se convrir ou non...\n",
    "\n",
    "Le code suivant récupère la météo actuelle grace au service [Open Weather Map](http://openweathermap.org/current):"
   ]
  },
  {
   "cell_type": "code",
   "execution_count": null,
   "metadata": {},
   "outputs": [],
   "source": [
    "import requests\n",
    "\n",
    "# URL du service de météo\n",
    "REQUETE_URL = 'http://api.openweathermap.org/data/2.5/weather'\n",
    "# Clé à utiliser pour accéder au service (rien n'est jamais complètement gratuit!)\n",
    "ISN_KEY = '29c169de6611a15b7fa6df28811d9f72'\n",
    "# Ville qui nous interesse\n",
    "VILLE = 'Roquebrune-Cap-Martin'\n",
    "\n",
    "# LA requete magique qui va tout faire!\n",
    "reponse = requests.get(REQUETE_URL, params={'APPID': ISN_KEY, 'q': VILLE, 'units': 'metric'}).json()\n",
    "\n",
    "# A ce stade, reponse contient un tas d'infos qu'on peut utiliser pour ce qu'on veut!\n",
    "print(\"A {}, il fait actuellement {} degrés, avec {} % d'humidité.\".format(\n",
    "    VILLE,\n",
    "    reponse['main']['temp'],\n",
    "    reponse['main']['humidity']\n",
    "))\n",
    "reponse"
   ]
  },
  {
   "cell_type": "markdown",
   "metadata": {},
   "source": [
    "## Les différentes tâches effectuée pour ce résultat\n",
    "\n",
    "Le format d'une requete HTTP est le suivant:\n",
    "\n",
    "```\n",
    "http://<nom d'hote ou adresse IP>:<port de connection>/<chemin vers page ou service>?<nom de parametre>=<valeur>&<nom de parametre>=<valeur>...\n",
    "```\n",
    "Exemples:\n",
    "- http://google.fr/ (hote: google.fr, port: sous-entendu 80, chemin: /, pas de parametre)\n",
    "- http://mycoffeeservice.com:5000/docoffee?milk=false (hote: mycoffeeservice.com, port: 5000, chemin: /docoffee, parametre: milk=false)\n",
    "\n",
    "La requête précédente correspond à ceci: http://api.openweathermap.org/data/2.5/weather?APPID=29c169de6611a15b7fa6df28811d9f72&units=metric&q=Roquebrune-Cap-Martin\n",
    "\n",
    "### La résolution de l'adresse IP\n",
    "\n",
    "Avant même de pouvoir se connecter au serveur, il faut connaitre l'adresse IP de celui-ci. La seule information que nous ayons est le nom du serveur correspondant (api.openweathermap.org).\n",
    "\n",
    "Pour résoudre une adresse IP, il faut interroger un service de DNS. Chaque ordinateur connait généralement un ou plusieurs serveur DNS autour de lui. La commande `ipconfig /all` vous permet de connaitre cette information.\n",
    "\n",
    "Python propose une fonction permettant d'intérroger le serveur DNS: la commande `gethostbyname` dans le module `socket`"
   ]
  },
  {
   "cell_type": "code",
   "execution_count": null,
   "metadata": {},
   "outputs": [],
   "source": [
    "from socket import *\n",
    "print(gethostbyname('api.openweathermap.org'))"
   ]
  },
  {
   "cell_type": "markdown",
   "metadata": {},
   "source": [
    "### La connection TCP\n",
    "\n",
    "Pour TCP on parle de connection: Le client (vous!) et le serveur doivent d'abord se connecter l'un à l'autre avant de pouvoir parler. En python, la librairie `socket` permet de directement créer des `socket`, objet représentant une connection et permettant d'envoyer et recevoir des données.\n",
    "\n",
    "Pour les cadres suivant, vous pouvez utiliser la fonction `ouvrir_connection` suivante qui va établir une connection. La connaissance du fonctionnement des sockets n'est pas requis à votre niveau."
   ]
  },
  {
   "cell_type": "code",
   "execution_count": null,
   "metadata": {},
   "outputs": [],
   "source": [
    "from socket import *\n",
    "\n",
    "def ouvrir_connexion(adresse, port):\n",
    "    \"\"\"Fonction qui va créer une socket pour vous\"\"\"\n",
    "    assert isinstance(adresse, str), \"l'adresse doit etre une chaine de caracteres\"\n",
    "    assert isinstance(port, int), \"le port doit etre un entier positif entre 1 et 65535\"\n",
    "    \n",
    "    # Creation d'une socket IPv4 (AF_INET) et TCP (SOCK_STREAM).\n",
    "    sock = socket(AF_INET, SOCK_STREAM)\n",
    "    \n",
    "    # Juste pour éviter d'attendre des heures en cas d'erreur\n",
    "    sock.settimeout(3)\n",
    "    \n",
    "    # Connection au serveur\n",
    "    sock.connect((adresse, port))\n",
    "    \n",
    "    # C'est tout bon!\n",
    "    return sock\n",
    "\n",
    "def fermer_connexion(sock):\n",
    "    sock.close()\n",
    "\n",
    "def envoyer(sock, requete):\n",
    "    \"\"\"Envoie une chaine de caracteres à travers la socket/connection TCP\"\"\"\n",
    "    data = requete.encode()\n",
    "    sock.send(data)\n",
    "    \n",
    "def recevoir(sock, taille=10000):\n",
    "    \"\"\"Recevoir des données, la taille en option\"\"\"\n",
    "    data = sock.recv(taille)\n",
    "    return data.decode()\n"
   ]
  },
  {
   "cell_type": "markdown",
   "metadata": {},
   "source": [
    "### Demander au serveur la météo?\n",
    "\n",
    "Revenons à l'URL de la requete de météo. Comme aucun port n'est défini, on part du principe que celui ci est le port 80 (port standard du protocole HTTP).\n",
    "\n",
    "On ouvre la connection, puis... quoi? Comment demander la météo? Gentillement?"
   ]
  },
  {
   "cell_type": "code",
   "execution_count": null,
   "metadata": {},
   "outputs": [],
   "source": [
    "METEO_IP = gethostbyname('api.openweathermap.org')\n",
    "conn = ouvrir_connexion(METEO_IP, 80)\n",
    "envoyer(conn, 'Puis-je avoir la météo à RCM SVP?')\n",
    "print(recevoir(conn))\n",
    "\n",
    "# Ne jamais oublier de fermer les connexions qu'on ouvre!\n",
    "fermer_connexion(conn)"
   ]
  },
  {
   "cell_type": "markdown",
   "metadata": {},
   "source": [
    "### Couche APPLICATION et protocole HTTP\n",
    "\n",
    "Une fois la connection TCP établie, la couche suivante est la couche application. Chaque application a son propre langage, et sa propre syntaxe pour communiquer.\n",
    "\n",
    "Une commande HTTP GET simple a le format suivant:\n",
    "```\n",
    "GET <URL> HTTP/1.0\\r\\n\\r\\n\n",
    "```\n",
    "\n",
    "La réponse du serveur va toujours contenir sur la première ligne un code et un status correspondant.\n",
    "Voici quelques erreurs courantes:\n",
    "- 404: Page non trouvée\n",
    "- 400: Mauvaise requete\n",
    "- 200: OK, la page existe ou la requete est valide\n",
    "\n",
    "Mettons de-suite en pratique!"
   ]
  },
  {
   "cell_type": "code",
   "execution_count": null,
   "metadata": {},
   "outputs": [],
   "source": [
    "URL = '/data/2.5/weather?APPID=29c169de6611a15b7fa6df28811d9f72&units=metric&q=Roquebrune-Cap-Martin,fr'\n",
    "\n",
    "# Créer une requete GET avec l'URL précédente\n",
    "REQUETE = 'GET {} HTTP/1.0\\r\\n\\r\\n'.format(URL)\n",
    "\n",
    "# OBTENIR l'IP du service METEO\n",
    "METEO_ADRESSE = gethostbyname('api.openweathermap.org')\n",
    "\n",
    "conn = ouvrir_connexion(METEO_ADRESSE, 80)\n",
    "envoyer(conn, REQUETE)\n",
    "reponse = recevoir(conn)\n",
    "print(reponse)\n",
    "fermer_connexion(conn)"
   ]
  },
  {
   "cell_type": "markdown",
   "metadata": {},
   "source": [
    "### Comprendre une réponse HTTP\n",
    "\n",
    "Une réponse HTTP contient:\n",
    "- un certain nombre d'informations utiles en première partie (les Headers, en-têtes)\n",
    "- puis une ligne vide\n",
    "- et enfin la réponse réelle\n",
    "\n",
    "Une fois la réponse réelle extraite, il faut savoir la lire! Pour cela, il faut regarder l'en-tête \"Content-Type\" qui indique de quel genre de réponse il s'agit. Ici, c'est une réponse au format `json`, très facile à lire! Utilisez la commande `json.loads` qui retourne un dictionnaire."
   ]
  },
  {
   "cell_type": "code",
   "execution_count": null,
   "metadata": {},
   "outputs": [],
   "source": [
    "# Séparer la réponse entre headers et contenu au niveau de la ligne vide\n",
    "headers, contenu = reponse.split('\\r\\n\\r\\n')\n",
    "\n",
    "# Charger le contenu avec la command json.loads\n",
    "import json\n",
    "meteo = json.loads(contenu)\n",
    "\n",
    "meteo"
   ]
  },
  {
   "cell_type": "markdown",
   "metadata": {},
   "source": [
    "# Coder un client de chat!!!\n",
    "\n",
    "Specialement pour la classe d'ISN, un petit service de discussion ('chat' en anglais) a été créé.\n",
    "\n",
    "Le principe de fonctionnement est extrêmement simple: chaque client ouvre une connection TCP vers le serveur (ici, disponible à l'adresse `vps.jonathanmartin.fr`, sur le port `80` (Habituellement, le port 80 est reservé au protocol HTTP, mais j'ai des soucis de Firewall avec d'autres ports...).\n",
    "\n",
    "Ensuite il faut suivre le protocole suivant:\n",
    "\n",
    "- Tous message consiste en une ligne terminée par le caractère `\\n`\n",
    "- Il existe 4 type de messages:\n",
    "  - Les commandes, qui commancent toutes par `!`:\n",
    "    - `!help` affiche un message d'aide\n",
    "    - `!quit` ferme proprement la connection avec le serveur\n",
    "    - `!join:<pseudo>` vous permet de rejoindre la chatroom et commencer à envoyer/recevoir des messages.\n",
    "      Vous ne pouvez pas envoyer de message avant d'avoir rejoint le chat avec un pseudonyme!\n",
    "    - `!list` affiche la listes des pseudos de clients déjà connectés (vos camarades?)\n",
    "  - Les messages venant du serveur commencent par `%`, et existe uniquement à titre d'information\n",
    "  - Les messages qui commence par `@<pseudo>:` sera envoyé uniquement au pseudo en question\n",
    "  - Tout autre message envoyé à tout le monde.\n",
    "  \n",
    "Pour accélerer un peu le TP, je vous ai préparé un client déjà tout prêt, qui vous permet de vous connecter au serveur et envoyer des messages ou commandes.\n",
    "\n",
    "**Essayez de vous connecter au serveur, de vous enregistrer avec votre nom, puis envoyer des messages pour vous familiariser avec la syntaxe!**"
   ]
  },
  {
   "cell_type": "code",
   "execution_count": null,
   "metadata": {
    "scrolled": true
   },
   "outputs": [],
   "source": [
    "from chat import ChatClient\n",
    "\n",
    "try:\n",
    "    # Au cas ou vous essayer de recharger ce bloc,\n",
    "    # Il faut s'assurer qu'un client précédement ouvert est bien fermé\n",
    "    client.stop()\n",
    "except:\n",
    "    pass\n",
    "\n",
    "client = ChatClient('vps.jonathanmartin.fr', 80)\n",
    "client.start()"
   ]
  },
  {
   "cell_type": "markdown",
   "metadata": {},
   "source": [
    "## Ecrire un BOT de chat\n",
    "\n",
    "Les \"BOTS\" sont des programmes autonomes qui se connectent automatiquement à des services et utilise les protocoles de communication à des fins plus ou moins douteuse... Le principe du BOT est d'exploiter des faiblesses d'un service ou protocole pour en abuser.\n",
    "\n",
    "Ecrivons un bot simple, qui va:\n",
    "- se connecter au serveur\n",
    "- joindre le chat avec un pseudo généré au hasard (ex: troll65434567, random34567, ...)\n",
    "- envoyer des messages un peu au hasard (soyez créatifs!)\n",
    "- puis se déconnecte"
   ]
  },
  {
   "cell_type": "code",
   "execution_count": null,
   "metadata": {},
   "outputs": [],
   "source": [
    "# A VOUS DE VOUS DEBROUILLER MAINTENANT!!!\n",
    "# AIDEZ-VOUS DU CODE DES PRECEDENTS EXERCICES\n",
    "\n",
    "# Creer une socket TCP vers le port 80 du serveur vps.jonathanmartin.fr\n",
    "\n",
    "# Generer un pseudo au hasard\n",
    "\n",
    "# Envoyer une command !join avec votre pseudo\n",
    "\n",
    "# Recevoir et afficher la réponse\n",
    "\n",
    "# Ecrire quelques messages\n",
    "\n",
    "# Quitter la chatroom et fermer la socket"
   ]
  }
 ],
 "metadata": {
  "kernelspec": {
   "display_name": "Python 3",
   "language": "python",
   "name": "python3"
  },
  "language_info": {
   "codemirror_mode": {
    "name": "ipython",
    "version": 3
   },
   "file_extension": ".py",
   "mimetype": "text/x-python",
   "name": "python",
   "nbconvert_exporter": "python",
   "pygments_lexer": "ipython3",
   "version": "3.7.0b5"
  }
 },
 "nbformat": 4,
 "nbformat_minor": 2
}
